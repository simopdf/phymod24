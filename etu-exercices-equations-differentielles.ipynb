{
 "cells": [
  {
   "cell_type": "markdown",
   "metadata": {},
   "source": [
    "# Méthodes d'Euler et de Runge-Kutta"
   ]
  },
  {
   "cell_type": "markdown",
   "metadata": {},
   "source": [
    "## La tasse de café\n",
    "Lorsque la différence $D(t)$ entre la température du café au temps $t$ et celle de l'air ambiant n'est pas trop grande, on peut considérer qu'elle varie selon la relation :\n",
    "\n",
    "$$\n",
    "\\frac{\\text{d}D}{\\text{d}t} = -r D(t)\n",
    "$$\n",
    "\n",
    "où $r=1/\\tau$ est un paramètre positif.\n",
    "\n",
    "1. Résoudre cette équation avec la méthode d'Euler entre $0$ et $30\\mathrm{~mn}$, pour la condition initiale $D(0) = 65.3\\mathrm{~°C}$ et la valeur du paramètre $r = 0.1\\mathrm{~mn^{-1}}$. On prendra un pas de $0.5\\mathrm{~mn}$. \n",
    "\n",
    "2. Comparer graphiquement la solution numérique avec la solution analytique :\n",
    "\n",
    "$$\n",
    "D (t) = D_0 e^{-rt} \n",
    "$$\n",
    "\n",
    "3. Représenter graphiquement l'erreur relative entre les 2 méthodes"
   ]
  },
  {
   "cell_type": "code",
   "execution_count": 2,
   "metadata": {},
   "outputs": [
    {
     "ename": "IndexError",
     "evalue": "index 60 is out of bounds for axis 0 with size 60",
     "output_type": "error",
     "traceback": [
      "\u001b[1;31m---------------------------------------------------------------------------\u001b[0m",
      "\u001b[1;31mIndexError\u001b[0m                                Traceback (most recent call last)",
      "\u001b[1;32m~\\AppData\\Local\\Temp\\8\\ipykernel_15832\\3933992140.py\u001b[0m in \u001b[0;36m<module>\u001b[1;34m\u001b[0m\n\u001b[0;32m     20\u001b[0m \u001b[1;33m\u001b[0m\u001b[0m\n\u001b[0;32m     21\u001b[0m \u001b[1;32mfor\u001b[0m \u001b[0mi\u001b[0m\u001b[1;33m,\u001b[0m\u001b[0mt\u001b[0m \u001b[1;32min\u001b[0m \u001b[0menumerate\u001b[0m\u001b[1;33m(\u001b[0m\u001b[0mt_tab\u001b[0m\u001b[1;33m)\u001b[0m\u001b[1;33m:\u001b[0m\u001b[1;33m\u001b[0m\u001b[1;33m\u001b[0m\u001b[0m\n\u001b[1;32m---> 22\u001b[1;33m     \u001b[0mD\u001b[0m\u001b[1;33m[\u001b[0m\u001b[0mi\u001b[0m\u001b[1;33m+\u001b[0m\u001b[0mi\u001b[0m\u001b[1;33m]\u001b[0m \u001b[1;33m=\u001b[0m \u001b[0mD\u001b[0m\u001b[1;33m[\u001b[0m\u001b[0mi\u001b[0m\u001b[1;33m]\u001b[0m \u001b[1;33m+\u001b[0m \u001b[0mpas\u001b[0m\u001b[1;33m*\u001b[0m\u001b[0mderD\u001b[0m\u001b[1;33m(\u001b[0m\u001b[0mi\u001b[0m\u001b[1;33m,\u001b[0m\u001b[0mt\u001b[0m\u001b[1;33m)\u001b[0m\u001b[1;33m\u001b[0m\u001b[1;33m\u001b[0m\u001b[0m\n\u001b[0m\u001b[0;32m     23\u001b[0m \u001b[1;33m\u001b[0m\u001b[0m\n\u001b[0;32m     24\u001b[0m \u001b[1;33m\u001b[0m\u001b[0m\n",
      "\u001b[1;31mIndexError\u001b[0m: index 60 is out of bounds for axis 0 with size 60"
     ]
    }
   ],
   "source": [
    "import numpy as np\n",
    "#Conditions initiales\n",
    "t0 = 0\n",
    "D0 = 65.3\n",
    "r=0.1\n",
    "\n",
    "#Temps\n",
    "tf=30\n",
    "pas = 0.5\n",
    "\n",
    "t_tab=np.arange(0,30,0.5)\n",
    "\n",
    "\n",
    "#Initialisation fonction\n",
    "D = np.zeros(t_tab.shape)\n",
    "D[0] = D0\n",
    "\n",
    "def derD(i,t):\n",
    "    return -r*D[i]\n",
    "\n",
    "for i,t in enumerate(t_tab):\n",
    "    D[i+i] = D[i] + pas*derD(i,t)\n",
    "\n",
    "\n",
    "\n"
   ]
  },
  {
   "cell_type": "markdown",
   "metadata": {},
   "source": [
    "## Méthodes de Runge-Kutta\n",
    "La méthode d'Euler est simple à programmer mais est toutefois peu précise au-delà des temps\n",
    "courts. Il existe de nombreuses méthodes pour y remédier. \n",
    "Une classe de méthodes couramment utilisées est la classe des méthodes de Runge-Kutta présentées ci-dessous.\n",
    "\n",
    "Considérons les  équations différentielles ordinaires d'ordre 1 de la forme :\n",
    "\n",
    "$$\n",
    "    u'(t) = F(u,t)\n",
    "$$\n",
    "\n",
    "avec une  condition initiale :\n",
    "\n",
    "$$\n",
    "u(0) = U_0\n",
    "$$\n",
    "\n",
    "où $u$ est une quantité scalaire ou vectorielle.\n",
    "\n",
    "L'intégration de l'EDO entre $t_k$ et $t_{k+1}= t_k+\\Delta t $ \n",
    "donne formellement :\n",
    "\n",
    "$$\n",
    "u(t_{k+1})-u(t_k) = \\int_{t_k}^{t_k+\\Delta t} \\, F(u(t),t)\\,\\text{d}t\n",
    "$$\n",
    "\n",
    "Dans la méthode d'Euler explicite, l'intégrale est approximée par\n",
    "\n",
    "$$\n",
    "\\int_{t_k}^{t_k+\\Delta t} \\, F(u(t),t)\\,\\text{d}t = F(u(t_k),t_k) \\Delta t\n",
    "$$\n",
    "\n",
    "À chaque pas l'erreur est de l'ordre de $M(\\Delta t)^2/2$ où $M$ est l'ordre\n",
    "de grandeur de la dérivée de $F$ par rapport à $t$.\n",
    "Au bout de $N$ pas d'intégration, l'erreur cumulée est donc de l'ordre\n",
    "de $\\Delta t$ (et on voit facilement qu'il en sera de même pour la méthode implicite).\n",
    "D'où la qualification de méthode d'ordre 1 en $\\Delta t$ donnée à la méthode d'Euler. "
   ]
  },
  {
   "cell_type": "markdown",
   "metadata": {},
   "source": [
    "## Methodes de Runge-Kutta (explicite) d'ordre 2 (méthodes RK2) :\n",
    "               \n",
    "On peut améliorer l'estimation $u_{k+1}$ de $u(t_{k+1})$ en évaluant $F$ à un point \n",
    "intermédiaire, par exemple le point milieu du pas d'intégration et refaire l'intégration\n",
    "de $u$ à partir de $t_k$ en utilisant cette évaluation de l'intégrande :\n",
    "\n",
    "$$\n",
    "    d_1 = F(u_k, t_k) \n",
    "$$\n",
    "\n",
    "$$\n",
    "    u_{k,1} = u(t_k)+ d_1 \\frac{\\Delta t}{2} \n",
    "$$\n",
    "\n",
    "$$\n",
    "    d_2 = F\\left(u_{k,1}, t_k + \\frac{\\Delta t}{2} \\right)      \n",
    "$$\n",
    "\n",
    "$$\n",
    "u_{k+1} =  u_k  + d_2 \\Delta t \\;.\n",
    "$$\n",
    "\n",
    "D'où le nom de méthode RK2 du point milieu. On peut montrer que les erreurs cumulées sont d'ordre $\\Delta t^2$,\n",
    "d'où le nom de méthode de Runge-Kutta d'ordre 2.\n",
    "\n",
    "1. Adapter le script de la méthode d'Euler ci-dessous pour appliquer la méthode RK2 et tester la méthode pour le problème du refroidissement de la tasse de café"
   ]
  },
  {
   "cell_type": "code",
   "execution_count": 1,
   "metadata": {
    "tags": [
     "hide-input"
    ]
   },
   "outputs": [],
   "source": [
    "# Méthode d'Euler\n",
    "def Euler(start, end, step, v_ini, derivee, ordre):\n",
    "    '''\n",
    "        Application de la méthode d'Euler\n",
    "    '''\n",
    "    # Création du tableau temps\n",
    "    interval = end - start                     # Intervalle\n",
    "    num_points = int(interval / step) + 1      # Nombre d'éléments\n",
    "    t = np.linspace(start, end, num_points)    # Tableau temps t\n",
    "\n",
    "    # Initialisation du tableau v\n",
    "    v = np.empty((ordre, num_points))\n",
    "\n",
    "    # Condition initiale\n",
    "    v[:, 0] = v_ini \n",
    "\n",
    "    # Boucle for\n",
    "    for i in range(num_points - 1):\n",
    "        v[:, i + 1] = v[:, i] + step * derivee(v[:, i], t[i])\n",
    "\n",
    "    # Argument de sortie\n",
    "    return t, v"
   ]
  },
  {
   "cell_type": "markdown",
   "metadata": {},
   "source": [
    "2. Calculer l'erreur relative en fonction du temps et comparer à la méthode d'Euler"
   ]
  },
  {
   "cell_type": "markdown",
   "metadata": {},
   "source": [
    "## Methode de Runge-Kutta (explicite) d'ordre 4 (méthode RK4)\n",
    "Nous nous limiterons au schéma d'intégration suivant, couramment  utilisé, basé sur une estimation de l'intégrale par la méthode de Simpson :\n",
    "\n",
    "$$\n",
    "    d_1 =   F\\left(t_k   , u_{k} \\right)          \n",
    "$$\n",
    "\n",
    "$$\n",
    "    d_2 =   F\\left(t_k + \\frac{\\Delta t}{2}  , u_{k} + \\frac{\\Delta t}{2} d_1 \\right)\n",
    "$$\n",
    "\n",
    "$$\n",
    "    d_3 =   F\\left(t_k + \\frac{\\Delta t}{2}  , u_{k} + \\frac{\\Delta t}{2} d_2 \\right) \n",
    "$$\n",
    "\n",
    "$$\n",
    "    d_4 =   F\\left(t_k + \\Delta t  , u_{k} + \\Delta t d_3\\right)            \n",
    "$$\n",
    "\n",
    "$$\n",
    "    u_{k+1} =  u_k  +  \\frac{\\Delta t}{6} \\left[ d_1+ 2 d_2  + 2 d_3 + d_4 \\right]\n",
    "$$\n",
    "\n",
    "où l'erreur par pas est d'ordre $\\Delta t^5$ et l'erreur cumulée est  d'ordre $\\Delta t^4$."
   ]
  },
  {
   "cell_type": "markdown",
   "metadata": {},
   "source": [
    "1. Adapter la fonction de la méthode d'Euler de l'exercice précédent pour appliquer la méthode RK4, et tester la méthode pour le problème du refroidissement de la tasse de café"
   ]
  },
  {
   "cell_type": "markdown",
   "metadata": {},
   "source": [
    "2. Calculer l'erreur relative en fonction du temps et comparer à la méthode d'Euler et à RK2"
   ]
  }
 ],
 "metadata": {
  "kernelspec": {
   "display_name": "py3-9-13",
   "language": "python",
   "name": "conda-env-py3-9-13-py"
  },
  "language_info": {
   "codemirror_mode": {
    "name": "ipython",
    "version": 3
   },
   "file_extension": ".py",
   "mimetype": "text/x-python",
   "name": "python",
   "nbconvert_exporter": "python",
   "pygments_lexer": "ipython3",
   "version": "3.9.13"
  }
 },
 "nbformat": 4,
 "nbformat_minor": 4
}
